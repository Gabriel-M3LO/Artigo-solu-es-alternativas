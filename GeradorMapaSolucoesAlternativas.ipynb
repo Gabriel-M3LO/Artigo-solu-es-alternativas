{
 "cells": [
  {
   "cell_type": "code",
   "id": "initial_id",
   "metadata": {
    "collapsed": true,
    "ExecuteTime": {
     "end_time": "2024-08-15T18:52:26.933195Z",
     "start_time": "2024-08-15T18:52:26.924857Z"
    }
   },
   "source": [
    "import pandas as pd\n",
    "import folium"
   ],
   "outputs": [],
   "execution_count": 13
  },
  {
   "metadata": {
    "ExecuteTime": {
     "end_time": "2024-08-15T18:52:26.961321Z",
     "start_time": "2024-08-15T18:52:26.949096Z"
    }
   },
   "cell_type": "code",
   "source": [
    "#Carrega o arquivo CSV com os dados e coordenadas\n",
    "file_path_with_coords = '/home/gmelo/Área de trabalho/Gerador mapa/BD.csv'  # Substitua pelo caminho correto\n",
    "df_coords = pd.read_csv(file_path_with_coords)"
   ],
   "id": "2dbc3fd4380b63f0",
   "outputs": [],
   "execution_count": 14
  },
  {
   "metadata": {
    "ExecuteTime": {
     "end_time": "2024-08-15T18:52:27.030660Z",
     "start_time": "2024-08-15T18:52:27.010537Z"
    }
   },
   "cell_type": "code",
   "source": [
    "# Separar as coordenadas em colunas de latitude e longitude\n",
    "df_coords[['Latitude', 'Longitude']] = df_coords['Latitude/Longitude'].str.split(',', expand=True)\n",
    "df_coords['Latitude'] = df_coords['Latitude'].astype(float)\n",
    "df_coords['Longitude'] = df_coords['Longitude'].astype(float)"
   ],
   "id": "52cdb3a6b0a128d8",
   "outputs": [],
   "execution_count": 15
  },
  {
   "metadata": {
    "ExecuteTime": {
     "end_time": "2024-08-15T18:52:27.091808Z",
     "start_time": "2024-08-15T18:52:27.077031Z"
    }
   },
   "cell_type": "code",
   "source": [
    "# Remover linhas com valores NaN nas colunas de latitude ou longitude\n",
    "df_coords = df_coords.dropna(subset=['Latitude', 'Longitude'])"
   ],
   "id": "4e9ecf669cd97871",
   "outputs": [],
   "execution_count": 16
  },
  {
   "metadata": {
    "ExecuteTime": {
     "end_time": "2024-08-15T18:52:27.153521Z",
     "start_time": "2024-08-15T18:52:27.143646Z"
    }
   },
   "cell_type": "code",
   "source": [
    "# Função para definir o tamanho dos círculos conforme a quantidade de casos(índices), pode ser alterada de acordo com o proposito do projeto\n",
    "def definir_tamanho(qnt):\n",
    "    if qnt < 10:\n",
    "        return 2\n",
    "    elif qnt <= 25:\n",
    "        return 4\n",
    "    elif qnt <= 50:\n",
    "        return 6\n",
    "    else:\n",
    "        return 9"
   ],
   "id": "a08203c3ff23f410",
   "outputs": [],
   "execution_count": 17
  },
  {
   "metadata": {
    "ExecuteTime": {
     "end_time": "2024-08-15T18:52:27.259727Z",
     "start_time": "2024-08-15T18:52:27.218248Z"
    }
   },
   "cell_type": "code",
   "source": [
    "#Gera o mapa\n",
    "mapa = folium.Map(location=[-14.7900, -39.2800],\n",
    "                  zoom_start=13,\n",
    "                  tiles='cartodbpositron',\n",
    "                  name='Stamen'\n",
    "                  )\n",
    "\n",
    "folium.TileLayer('cartodbpositron', name='Positon').add_to(mapa)\n",
    "folium.TileLayer('cartodbdark_matter', name='Dark').add_to(mapa)\n",
    "folium.TileLayer('https://{s}.tile-cyclosm.openstreetmap.fr/cyclosm/{z}/{x}/{y}.png',\n",
    "                 name='Lagoon',\n",
    "                 attr='<a href=\"https://jawg.io\" title=\"Tiles Courtesy of Jawg Maps\" target=\"_blank\">&copy; <b>Jawg</b>Maps</a> &copy; <a href=\"https://www.openstreetmap.org/copyright\">OpenStreetMap</a> contributors').add_to(mapa)\n",
    "\n",
    "folium.LayerControl().add_to(mapa)"
   ],
   "id": "53f7e34857dfb651",
   "outputs": [
    {
     "data": {
      "text/plain": [
       "<folium.map.LayerControl at 0x7f5f9da48fd0>"
      ]
     },
     "execution_count": 18,
     "metadata": {},
     "output_type": "execute_result"
    }
   ],
   "execution_count": 18
  },
  {
   "metadata": {
    "ExecuteTime": {
     "end_time": "2024-08-15T18:52:27.298105Z",
     "start_time": "2024-08-15T18:52:27.282849Z"
    }
   },
   "cell_type": "code",
   "source": [
    "# Adicionar os círculos e marcadores no mapa para SAC\n",
    "for index, row in df_coords.iterrows():\n",
    "    if row['qnt_sac'] > 0:\n",
    "        folium.Circle(\n",
    "            location=[row['Latitude'], row['Longitude']],\n",
    "            radius=definir_tamanho(row['qnt_sac']) * 100,  # Multiplicador para melhor visualização\n",
    "            color='red',\n",
    "            fill=True,\n",
    "            fill_color='red'\n",
    "        ).add_to(mapa)\n",
    "\n",
    "        folium.Marker(\n",
    "            location=[row['Latitude'], row['Longitude']],\n",
    "            icon=folium.DivIcon(html=f\"\"\"<div style=\"display:none\"></div>\"\"\")\n",
    "        ).add_to(mapa).add_child(folium.Popup(f\"Bairro: {row['Bairro']}<br>Quantidade SAC: {row['qnt_sac']}\"))"
   ],
   "id": "f6fc480b8fc45066",
   "outputs": [],
   "execution_count": 19
  },
  {
   "metadata": {
    "ExecuteTime": {
     "end_time": "2024-08-15T18:52:27.364498Z",
     "start_time": "2024-08-15T18:52:27.339448Z"
    }
   },
   "cell_type": "code",
   "source": [
    "# Adicionar os círculos e marcadores no mapa para SAI\n",
    "for index, row in df_coords.iterrows():\n",
    "    if row['qnt_sai'] > 0:\n",
    "        folium.Circle(\n",
    "            location=[row['Latitude'], row['Longitude']],\n",
    "            radius=definir_tamanho(row['qnt_sai']) * 100,  # Multiplicador para melhor visualização\n",
    "            color='yellow',\n",
    "            fill=True,\n",
    "            fill_color='yellow'\n",
    "        ).add_to(mapa)\n",
    "\n",
    "        folium.Marker(\n",
    "            location=[row['Latitude'], row['Longitude']],\n",
    "            icon=folium.DivIcon(html=f\"\"\"<div style=\"display:none\"></div>\"\"\")\n",
    "        ).add_to(mapa).add_child(folium.Popup(f\"Bairro: {row['Bairro']}<br>Quantidade SAI: {row['qnt_sai']}\"))"
   ],
   "id": "63ac515b62e7d552",
   "outputs": [],
   "execution_count": 20
  },
  {
   "metadata": {
    "ExecuteTime": {
     "end_time": "2024-08-15T18:52:27.430898Z",
     "start_time": "2024-08-15T18:52:27.412646Z"
    }
   },
   "cell_type": "code",
   "source": [
    "# Adicionar uma legenda ao mapa\n",
    "legend_html = '''\n",
    "     <div style=\"\n",
    "     position: fixed; \n",
    "     bottom: 50px; left: 50px; width: 150px; height: 90px; \n",
    "     background-color: white;\n",
    "     border:2px solid grey; z-index:9999; font-size:14px;\n",
    "     \">\n",
    "     &nbsp; <b>Legenda</b> <br>\n",
    "     &nbsp; <i style=\"color:red;\">●</i> SAC &nbsp; <br>\n",
    "     &nbsp; <i style=\"color:yellow;\">●</i> SAI &nbsp;\n",
    "     </div>\n",
    "     '''\n",
    "\n",
    "mapa.get_root().html.add_child(folium.Element(legend_html))"
   ],
   "id": "2921a8457c25f28",
   "outputs": [
    {
     "data": {
      "text/plain": [
       "<branca.element.Element at 0x7f5f9dbbf6a0>"
      ]
     },
     "execution_count": 21,
     "metadata": {},
     "output_type": "execute_result"
    }
   ],
   "execution_count": 21
  },
  {
   "metadata": {
    "ExecuteTime": {
     "end_time": "2024-08-15T18:52:27.656395Z",
     "start_time": "2024-08-15T18:52:27.546648Z"
    }
   },
   "cell_type": "code",
   "source": [
    "# Salvar o mapa em um arquivo HTML\n",
    "output_path = '/home/gmelo/Área de trabalho/Gerador mapa/mapa_insatisfatorios_com_coordenadas.html'# Altere o diretorio de output\n",
    "mapa.save(output_path)\n",
    "\n",
    "print(f\"Mapa salvo em: {output_path}\")"
   ],
   "id": "d3e6551879198ba6",
   "outputs": [
    {
     "name": "stdout",
     "output_type": "stream",
     "text": [
      "Mapa salvo em: /home/gmelo/Área de trabalho/Gerador mapa/mapa_insatisfatorios_com_coordenadas.html\n"
     ]
    }
   ],
   "execution_count": 22
  }
 ],
 "metadata": {
  "kernelspec": {
   "display_name": "Python 3",
   "language": "python",
   "name": "python3"
  },
  "language_info": {
   "codemirror_mode": {
    "name": "ipython",
    "version": 2
   },
   "file_extension": ".py",
   "mimetype": "text/x-python",
   "name": "python",
   "nbconvert_exporter": "python",
   "pygments_lexer": "ipython2",
   "version": "2.7.6"
  }
 },
 "nbformat": 4,
 "nbformat_minor": 5
}
